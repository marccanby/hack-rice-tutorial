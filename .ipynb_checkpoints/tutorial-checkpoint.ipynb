{
 "cells": [
  {
   "cell_type": "markdown",
   "metadata": {
    "collapsed": false
   },
   "source": [
    "# Machine Learning Tutorial $-$ Hack Rice 2017 \n",
    "### Marc E. Canby\n",
    "\n",
    "This tutorial will teach you how to:\n",
    "* Train a binary classifier in Python using a classical machine learning algorithm\n",
    "* Process text using the Python library sklearn\n",
    "* Select an appropriate error metric for a given problem\n",
    "\n",
    "This tutorial will not cover:\n",
    "* Neural networks\n",
    "* Unsupervised learning\n",
    "* Big data computing algorithms such as Spark or MapReduce\n",
    "* Big data computing resources such as AWS or Google Cloud\n",
    "\n",
    "If you plan to run the code locally, you will need to have Python 3 installed, as well as the following libraries:\n",
    "* numpy\n",
    "* pandas\n",
    "* sklearn"
   ]
  },
  {
   "cell_type": "markdown",
   "metadata": {},
   "source": [
    "## Step 1: Read in the data\n",
    "Before training a model, we will need some data. For our purposes, can use a dataset built into sklearn."
   ]
  },
  {
   "cell_type": "code",
   "execution_count": 32,
   "metadata": {
    "collapsed": false
   },
   "outputs": [
    {
     "name": "stdout",
     "output_type": "stream",
     "text": [
      "('Document 1:', u\"From: lerxst@wam.umd.edu (where's my thing)\\nSubject: WHAT car is this!?\\nNntp-Posting-Host: rac3.wam.umd.edu\\nOrganization: University of Maryland, College Park\\nLines: 15\\n\\n I was wondering if anyone out there could enlighten me on this car I saw\\nthe other day. It was a 2-door sports car, looked to be from the late 60s/\\nearly 70s. It was called a Bricklin. The doors were really small. In addition,\\nthe front bumper was separate from the rest of the body. This is \\nall I know. If anyone can tellme a model name, engine specs, years\\nof production, where this car is made, history, or whatever info you\\nhave on this funky looking car, please e-mail.\\n\\nThanks,\\n- IL\\n   ---- brought to you by your neighborhood Lerxst ----\\n\\n\\n\\n\\n\")\n",
      "('Document 1 Class:', 7)\n",
      "('Document 1 Class Name:', 'alt.atheism')\n"
     ]
    }
   ],
   "source": [
    "from sklearn.datasets import fetch_20newsgroups\n",
    "\n",
    "twenty_train = fetch_20newsgroups()\n",
    "\n",
    "document_1 = twenty_train.data[0]\n",
    "document_1_class = twenty_train.target[0]\n",
    "document_1_class_name = twenty_train.target_names[0]\n",
    "print(\"Document 1:\", document_1)\n",
    "print(\"Document 1 Class:\", document_1_class)\n",
    "print(\"Document 1 Class Name:\", document_1_class_name)"
   ]
  },
  {
   "cell_type": "markdown",
   "metadata": {},
   "source": [
    "It is also helpful to get a sense of the dataset as a whole."
   ]
  },
  {
   "cell_type": "code",
   "execution_count": 31,
   "metadata": {
    "collapsed": false
   },
   "outputs": [
    {
     "name": "stdout",
     "output_type": "stream",
     "text": [
      "('All classes: ', ['alt.atheism', 'comp.graphics', 'comp.os.ms-windows.misc', 'comp.sys.ibm.pc.hardware', 'comp.sys.mac.hardware', 'comp.windows.x', 'misc.forsale', 'rec.autos', 'rec.motorcycles', 'rec.sport.baseball', 'rec.sport.hockey', 'sci.crypt', 'sci.electronics', 'sci.med', 'sci.space', 'soc.religion.christian', 'talk.politics.guns', 'talk.politics.mideast', 'talk.politics.misc', 'talk.religion.misc'])\n"
     ]
    }
   ],
   "source": [
    "print(\"All classes: \", twenty_train.target_names)"
   ]
  }
 ],
 "metadata": {
  "anaconda-cloud": {},
  "kernelspec": {
   "display_name": "Python [default]",
   "language": "python",
   "name": "python2"
  },
  "language_info": {
   "codemirror_mode": {
    "name": "ipython",
    "version": 2
   },
   "file_extension": ".py",
   "mimetype": "text/x-python",
   "name": "python",
   "nbconvert_exporter": "python",
   "pygments_lexer": "ipython2",
   "version": "2.7.12"
  }
 },
 "nbformat": 4,
 "nbformat_minor": 1
}
